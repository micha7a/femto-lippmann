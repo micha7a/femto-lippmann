{
 "cells": [
  {
   "cell_type": "code",
   "execution_count": null,
   "id": "f3803046",
   "metadata": {},
   "outputs": [],
   "source": [
    "import matplotlib.pyplot as plt\n",
    "import numpy as np"
   ]
  },
  {
   "cell_type": "code",
   "execution_count": null,
   "id": "27e7f9ba",
   "metadata": {},
   "outputs": [],
   "source": [
    "depth = 1.0\n",
    "rho = 0.7\n",
    "tau = -0\n",
    "z = np.linspace(-2*depth, 2*depth, 200)\n",
    "N = 10\n",
    "idx_list = np.arange(0, N)\n",
    "def pattern(z,n):\n",
    "    box = np.ones_like(z)\n",
    "    box[z<0] = 0\n",
    "    box[z>depth] = 0\n",
    "    box = box*np.exp(z*tau)\n",
    "    return (1 + rho**2 + rho*np.cos(z[None, :]*np.pi*n[:, None]))*box[None,:]"
   ]
  },
  {
   "cell_type": "code",
   "execution_count": null,
   "id": "13d9c0e3",
   "metadata": {},
   "outputs": [],
   "source": [
    "basis = pattern(z, idx_list)\n",
    "basis.shape\n",
    "for idx in range(4):\n",
    "    plt.plot(z, basis[idx, :])\n",
    "plt.show()"
   ]
  },
  {
   "cell_type": "code",
   "execution_count": null,
   "id": "c176abfc",
   "metadata": {},
   "outputs": [],
   "source": [
    "square_basis = []\n",
    "for k in range(len(n)):\n",
    "    for j in range(len(n)):\n",
    "        square_basis.append(np.convolve(basis[k,:], basis[j,:], 'same'))\n",
    "square_basis = np.array(new_basis)"
   ]
  },
  {
   "cell_type": "code",
   "execution_count": null,
   "id": "889a2522",
   "metadata": {},
   "outputs": [],
   "source": [
    "for idx in range(4):\n",
    "    plt.plot(z, square_basis[idx, :])\n",
    "plt.show()"
   ]
  },
  {
   "cell_type": "code",
   "execution_count": null,
   "id": "33022b65",
   "metadata": {},
   "outputs": [],
   "source": [
    "\n",
    "print(f\"The matrix of this basis is {new_basis.shape[0]}x{new_basis.shape[1]}.\")\n",
    "print(f\"The rank of this matrix is {np.linalg.matrix_rank(new_basis)}, and it is smaller N(N+1)/2={N*(N+1)/2}.\")\n",
    "print(\"Therefore the basis is redundant\")\n"
   ]
  }
 ],
 "metadata": {
  "kernelspec": {
   "display_name": "Python 3 (ipykernel)",
   "language": "python",
   "name": "python3"
  },
  "language_info": {
   "codemirror_mode": {
    "name": "ipython",
    "version": 3
   },
   "file_extension": ".py",
   "mimetype": "text/x-python",
   "name": "python",
   "nbconvert_exporter": "python",
   "pygments_lexer": "ipython3",
   "version": "3.9.7"
  }
 },
 "nbformat": 4,
 "nbformat_minor": 5
}
