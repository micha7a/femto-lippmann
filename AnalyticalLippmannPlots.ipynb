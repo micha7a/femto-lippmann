{
 "cells": [
  {
   "cell_type": "code",
   "execution_count": null,
   "metadata": {
    "scrolled": true
   },
   "outputs": [],
   "source": [
    "import matplotlib.pyplot as plt\n",
    "import numpy as np\n",
    "import style"
   ]
  },
  {
   "cell_type": "markdown",
   "metadata": {},
   "source": [
    "# Notebook illustrating properties of the analytical Lippmann transform"
   ]
  },
  {
   "cell_type": "code",
   "execution_count": null,
   "metadata": {},
   "outputs": [],
   "source": [
    "light_speed = 299792458\n",
    "lambda_min = 400e-9\n",
    "lambda_max = 700e-9\n",
    "k_min = 2*np.pi/lambda_max\n",
    "k_max = 2*np.pi/lambda_min\n",
    "k_span = (k_max-k_min)/2\n",
    "k = np.linspace(-k_span, k_span, 500) \n",
    "\n",
    "def filter_s(k, tau=1e-6, Z=5e-6):\n",
    "    fake_wavenumber = tau + 2j * k\n",
    "    return (1 - np.exp(-fake_wavenumber*Z))/fake_wavenumber\n",
    "\n",
    "def plot_complex_amplitude(ax, amplituede, name):\n",
    "    ax.plot(k, np.imag(amplituede), label=\"imaginary\")\n",
    "    ax.plot(k, np.real(amplituede), label=\"real\")\n",
    "    ax.legend(loc=\"upper right\")\n",
    "    ax.set_xlabel(\"\\(k'\\)\")\n",
    "    yfmt = style.ScalarFormatterForceFormat()\n",
    "    yfmt.set_powerlimits((0,0))\n",
    "    ax.yaxis.set_major_formatter(yfmt)\n",
    "    plt.savefig(name, transparent=True)\n",
    "    plt.show()\n"
   ]
  },
  {
   "cell_type": "markdown",
   "metadata": {},
   "source": [
    "### Different depths of the plate (bandwith of the filter)"
   ]
  },
  {
   "cell_type": "code",
   "execution_count": null,
   "metadata": {},
   "outputs": [],
   "source": [
    "fig = plt.figure()\n",
    "plot_complex_amplitude(fig.gca(), filter_s(k, Z=5e-6), \"filter_z_5.pdf\")\n",
    "\n",
    "fig = plt.figure()\n",
    "plot_complex_amplitude(fig.gca(), filter_s(k, Z=10e-6), \"filter_z_10.pdf\")"
   ]
  },
  {
   "cell_type": "markdown",
   "metadata": {},
   "source": [
    "### Different attenuation coefficient tau (smoothing of the filter)"
   ]
  },
  {
   "cell_type": "code",
   "execution_count": null,
   "metadata": {},
   "outputs": [],
   "source": [
    "tau=3e5\n",
    "\n",
    "fig = plt.figure()\n",
    "plot_complex_amplitude(fig.gca(), filter_s(k, Z=5e-6), \"filter_z_5.pdf\")\n",
    "\n",
    "fig = plt.figure()\n",
    "plot_complex_amplitude(fig.gca(), filter_s(k, tau=3e5, Z=5e-6), \"filter_z_5_dev.pdf\")"
   ]
  },
  {
   "cell_type": "markdown",
   "metadata": {},
   "source": [
    "### Effects of different components of the filter"
   ]
  },
  {
   "cell_type": "code",
   "execution_count": null,
   "metadata": {},
   "outputs": [],
   "source": [
    "lambda_min = 400e-9\n",
    "lambda_max = 700e-9\n",
    "lambda_1 = 500e-9\n",
    "k_1 = 2*np.pi/lambda_1\n",
    "wavelengths = np.linspace(lambda_min, lambda_max, 200)\n",
    "k = 2*np.pi/wavelengths\n",
    "rho = 0.3\n",
    "theta = np.pi\n",
    "\n",
    "from pylab import rcParams\n",
    "rcParams['figure.figsize'] = 15, 4\n",
    "\n",
    "def plot_components(ax, p_0):\n",
    "    k_grid = np.tile(k, (len(k), 1))\n",
    "    o_1 = np.exp(1j*theta)*(1+rho**2)*filter_s(k_grid, Z=5e-6).T\n",
    "    o_2 = rho*filter_s(k_grid - k_grid.T, Z=5e-6).T\n",
    "    ax[0].plot(k, p_0,  c=\"C2\")\n",
    "    ax[0].set_title(\"Input spectrum\")\n",
    "\n",
    "    ax[1].plot(k, np.real(o_2 @ p_0), label=\"real filt.\")\n",
    "    ax[1].plot(k, np.imag(o_2 @ p_0), label=\"imag. filt.\")\n",
    "    ax[1].plot(k, np.real(o_1 @ p_0), label=\"real const.\")\n",
    "    ax[1].plot(k, np.imag(o_1 @ p_0), label=\"imag. const.\")\n",
    "    ax[1].legend()\n",
    "    ax[1].set_title(\"Filter components\")\n",
    "\n",
    "    ax[2].plot(k, np.real((o_2 + o_1) @ p_0),  label=\"real\")\n",
    "    ax[2].plot(k, np.imag((o_2 + o_1) @ p_0), label=\"imag.\")\n",
    "    ax[2].legend()\n",
    "    ax[2].set_title(\"Filter parts\")\n",
    "\n",
    "    ax[3].plot(k, np.abs((o_2 + o_1) @ p_0)**2, c=\"C2\", label=\"total\")\n",
    "    ax[3].plot(k, np.abs(o_2 @ p_0)**2, c=\"C3\", linestyle=\"--\", label=\"filt. only\")\n",
    "    ax[3].legend()\n",
    "    ax[3].set_title(\"Output spectrum\")\n",
    "    plt.show()"
   ]
  },
  {
   "cell_type": "code",
   "execution_count": null,
   "metadata": {},
   "outputs": [],
   "source": [
    "fig, ax = plt.subplots(1, 4)\n",
    "p_0 = np.zeros_like(k)\n",
    "p_0[72:78] = 1\n",
    "plot_components(ax, p_0)"
   ]
  },
  {
   "cell_type": "code",
   "execution_count": null,
   "metadata": {},
   "outputs": [],
   "source": [
    "fig, ax = plt.subplots(1, 4)\n",
    "p_0 = np.zeros_like(k)\n",
    "p_0[50:100] = 1\n",
    "plot_components(ax, p_0)"
   ]
  },
  {
   "cell_type": "code",
   "execution_count": null,
   "metadata": {},
   "outputs": [],
   "source": [
    "fix, ax = plt.subplots(1, 4)\n",
    "p_0 = np.exp(-(k-k_1)**2/1e11)\n",
    "plot_components(ax, p_0)"
   ]
  },
  {
   "cell_type": "code",
   "execution_count": null,
   "metadata": {},
   "outputs": [],
   "source": [
    "fix, ax = plt.subplots(1, 4)\n",
    "p_0 = np.exp(-(k-k_1)**2/1e12)\n",
    "plot_components(ax, p_0)"
   ]
  }
 ],
 "metadata": {
  "kernelspec": {
   "display_name": "Python 3 (ipykernel)",
   "language": "python",
   "name": "python3"
  },
  "language_info": {
   "codemirror_mode": {
    "name": "ipython",
    "version": 3
   },
   "file_extension": ".py",
   "mimetype": "text/x-python",
   "name": "python",
   "nbconvert_exporter": "python",
   "pygments_lexer": "ipython3",
   "version": "3.9.7"
  }
 },
 "nbformat": 4,
 "nbformat_minor": 4
}
