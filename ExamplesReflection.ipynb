{
 "cells": [
  {
   "cell_type": "code",
   "execution_count": null,
   "metadata": {},
   "outputs": [],
   "source": [
    "import numpy as np\n",
    "import matplotlib.pyplot as plt\n",
    "import copy\n",
    "np.set_printoptions(precision=2)\n",
    "from pathlib import Path\n",
    "\n",
    "import wave as w\n",
    "import constants as c\n",
    "import material as m\n",
    "import propagation as p\n",
    "import style\n"
   ]
  },
  {
   "cell_type": "markdown",
   "metadata": {},
   "source": [
    "# Example usage of simulated materials\n",
    "This notebook is ment as an reference on how to use `PlaneWave` and `Material` classes,\n",
    "and for visual test of the implementation."
   ]
  },
  {
   "cell_type": "code",
   "execution_count": null,
   "metadata": {},
   "outputs": [],
   "source": [
    "figures_dir = \"figures_reflection/\"\n",
    "Path(figures_dir).mkdir(parents=True, exist_ok=True)"
   ]
  },
  {
   "cell_type": "markdown",
   "metadata": {},
   "source": [
    "### Generate an example spectrum\n",
    "Just an example how to create and plot wave."
   ]
  },
  {
   "cell_type": "code",
   "execution_count": null,
   "metadata": {},
   "outputs": [],
   "source": [
    "s = w.GaussianPlanarWave(mean=c.GREEN, std=(5*c.MICRO))\n",
    "s_replay = w.WhitePlanarWave()\n",
    "z = np.linspace(-6*c.MICRO, 6*c.MICRO, 1000)\n",
    "s.delay(0)"
   ]
  },
  {
   "cell_type": "markdown",
   "metadata": {},
   "source": [
    "### Compare different materials\n",
    "\n",
    "#### Analitical vs constant vs matrix theory\n",
    "Create the same material (empty space) using three different material models in oder to inspect that they give the same resut."
   ]
  },
  {
   "cell_type": "code",
   "execution_count": null,
   "metadata": {},
   "outputs": [],
   "source": [
    "air = m.EmptySpace(z=z, name=\"analytic\")\n",
    "common_n = 1\n",
    "plate = m.PhotoSensitiveMaterial(z=z, r=0, name=\"transfer matrices\")\n",
    "dielectric = m.SimpleDielectric(z=z, n0=1, name=\"transfer matrices\")\n",
    "\n",
    "fig, (ax1, ax2, ax3) = plt.subplots(1, 3, figsize=(12, 3))\n",
    "\n",
    "air.plot(ax1, imaginary_axis=ax1.twinx())\n",
    "plate.plot(ax2, imaginary_axis=ax2.twinx())\n",
    "dielectric.plot(ax3, imaginary_axis=ax3.twinx())\n",
    "fig.tight_layout() \n",
    "plt.show()"
   ]
  },
  {
   "cell_type": "markdown",
   "metadata": {},
   "source": [
    "Calculate interference pattern in those three materials: again we can see that the patterns match. \n",
    "The index of refraction after recording would be different in those materials because ConstantMaterial's index of refraction cannot be modified."
   ]
  },
  {
   "cell_type": "code",
   "execution_count": null,
   "metadata": {
    "scrolled": true
   },
   "outputs": [],
   "source": [
    "fig, (ax1) = plt.subplots(1, 1, figsize=(8,4))\n",
    "\n",
    "dielectric.record(s,s)\n",
    "dielectric.plot_recent_energy(ax1, label=\"refraction\")\n",
    "plate.record(s,s)\n",
    "plate.plot_recent_energy(ax1, label=\"reflection\", alpha=0.5)\n",
    "ax1.legend()\n",
    "plt.show()"
   ]
  },
  {
   "cell_type": "markdown",
   "metadata": {},
   "source": [
    "### An example recording\n",
    "\n",
    "Left: interference pattern \n",
    "created in the material. Middle: index of \n",
    "refraction after recording. Right: reflected pulse, when the \n",
    "incoming pulse was the same as the recorded."
   ]
  },
  {
   "cell_type": "code",
   "execution_count": null,
   "metadata": {},
   "outputs": [],
   "source": [
    "Z_max = 2*c.MICRO\n",
    "z = np.linspace(0, Z_max, 1000)\n",
    "plate = m.PhotoSensitiveMaterial(z=z, total_ref=c.NANO, r=0, name=\"transfer matrices\", attenuation=1/Z_max)\n",
    "s0 = w.GaussianPlanarWave(mean=c.GREEN, std=(3*c.MICRO), energy=c.SINGLE_PULSE_ENERGY * 5)\n",
    "s1 = w.GaussianPlanarWave(mean=c.GREEN, std=(3*c.MICRO), energy=c.SINGLE_PULSE_ENERGY * 5)\n",
    "s1.shift(z=-Z_max)\n",
    "plate.record(s0, s1)\n",
    "fig, (ax1, ax2, ax3) = plt.subplots(1, 3, figsize=(9, 3))\n",
    "dielectric.plot_recent_energy(ax1)\n",
    "ax1.set_title(\"interference\")\n",
    "plate.plot(ax=ax2)\n",
    "plate.reflect(s_replay).plot(ax3, wavelength=False)\n",
    "approximate = plate.approximate_reflect(s_replay)\n",
    "ax3.plot(s_replay.k, np.abs(approximate.s)**2)\n",
    "plt.tight_layout()\n",
    "plt.savefig(figures_dir + \"recording.pdf\", transparent=True)\n",
    "plt.show()"
   ]
  },
  {
   "cell_type": "code",
   "execution_count": null,
   "metadata": {},
   "outputs": [],
   "source": [
    "Z_max = 2*c.MICRO\n",
    "z = np.linspace(0, Z_max, 1000)\n",
    "fig, axes = plt.subplots(1, 3, figsize=(9, 3))\n",
    "reflectivity = [1e-5, 1e-4, 1e-3]\n",
    "s0 = w.GaussianPlanarWave(mean=c.GREEN, std=(3*c.MICRO), energy=c.SINGLE_PULSE_ENERGY * 5)\n",
    "s1 = w.GaussianPlanarWave(mean=c.GREEN, std=(3*c.MICRO), energy=c.SINGLE_PULSE_ENERGY * 5)\n",
    "s1.shift(z=-Z_max)\n",
    "\n",
    "for ax, ref in zip(axes, reflectivity):\n",
    "    print(ref)\n",
    "    plate = m.PhotoSensitiveMaterial(z=z, total_ref=ref, r=0, name=\"transfer matrices\")\n",
    "    plate.record(s0, s1)\n",
    "    plate.reflect(s_replay).plot(ax, wavelength=False)\n",
    "    approximate = plate.approximate_reflect(s_replay)\n",
    "    ax.plot(s_replay.k, np.abs(approximate.s)**2)\n",
    "    ax.legend([\"matrix form.\", \"approximation\"])\n",
    "    ax.tick_params(axis='y', labelcolor=\"k\")\n",
    "    ax.set_ylabel(\"power spectrum\", color=\"k\")\n",
    "    \n",
    "\n",
    "plt.tight_layout()\n",
    "plt.savefig(figures_dir + \"approximation.pdf\", transparent=True)\n",
    "plt.show()"
   ]
  },
  {
   "cell_type": "code",
   "execution_count": null,
   "metadata": {},
   "outputs": [],
   "source": [
    "Z_max = 2*c.MICRO\n",
    "z = np.linspace(0, Z_max, 1000)\n",
    "fig, axes = plt.subplots(1, 3, figsize=(9, 3))\n",
    "reflectivity = [1e-5, 1e-4, 1e-3]\n",
    "s0 = w.GaussianPlanarWave(mean=c.GREEN, std=(3*c.MICRO), energy=c.SINGLE_PULSE_ENERGY * 5)\n",
    "s1 = w.GaussianPlanarWave(mean=c.GREEN, std=(3*c.MICRO), energy=c.SINGLE_PULSE_ENERGY * 5)\n",
    "s1.shift(z=-Z_max)\n",
    "\n",
    "for ax, ref in zip(axes, reflectivity):\n",
    "    print(ref)\n",
    "    plate = m.PhotoSensitiveMaterial(z=z, total_ref=ref, r=0, name=\"transfer matrices\", attenuation=2/Z_max)\n",
    "    plate.record(s0, s1)\n",
    "    plate.reflect(s_replay).plot(ax, wavelength=False)\n",
    "    approximate = plate.approximate_reflect(s_replay)\n",
    "    ax.plot(s_replay.k, np.abs(approximate.s)**2)\n",
    "    ax.legend([\"matrix form.\", \"approx\"])\n",
    "    ax.tick_params(axis='y', labelcolor=\"k\")\n",
    "    ax.set_ylabel(\"power spectrum\", color=\"k\")\n",
    "    \n",
    "\n",
    "plt.tight_layout()\n",
    "plt.savefig(figures_dir + \"approximation_attenuated.pdf\", transparent=True)\n",
    "plt.show()"
   ]
  },
  {
   "cell_type": "markdown",
   "metadata": {},
   "source": [
    "## Figure for TSP"
   ]
  },
  {
   "cell_type": "code",
   "execution_count": null,
   "metadata": {},
   "outputs": [],
   "source": [
    "Z_max = 3*c.MICRO\n",
    "z = np.linspace(0, Z_max, 1000)\n",
    "fig, axes = plt.subplots(1, 2)\n",
    "reflectivity = [1e-5, 1e-4]\n",
    "s0 = w.GaussianPlanarWave(mean=550*c.NANO, std=(4*c.MICRO), energy=c.SINGLE_PULSE_ENERGY * 5)\n",
    "s1 = w.GaussianPlanarWave(mean=550*c.NANO, std=(4*c.MICRO), energy=c.SINGLE_PULSE_ENERGY * 5)\n",
    "s1.shift(z=-Z_max)\n",
    "\n",
    "for ax, ref in zip(axes, reflectivity):\n",
    "    print(ref)\n",
    "    plate = m.PhotoSensitiveMaterial(z=z, total_ref=ref, r=0, name=\"transfer matrices\")\n",
    "    print(plate.max_dr*(z[-1]-z[0]))\n",
    "    plate.record(s0, s1)\n",
    "    exact = plate.reflect(s_replay)\n",
    "    approximate = plate.approximate_reflect(s_replay)\n",
    "    ax.plot(s_replay.wavelength()/c.NANO, np.abs(approximate.s)**2, c=\"gray\")\n",
    "#     exact.plot(ax, wavelength=True)\n",
    "    ax.plot(s_replay.wavelength()/c.NANO, np.abs(exact.s)**2)\n",
    "    ax.legend([\"approx.\", \"true\"])\n",
    "    ax.tick_params(axis='y', labelcolor=\"k\")\n",
    "    ax.set_ylabel(\"power spectrum\", color=\"k\")\n",
    "    ax.get_yaxis().set_visible(False)\n",
    "    ax.ticklabel_format(axis='y', style='sci', scilimits=(0,0))\n",
    "    ax.set_xlabel(\"\\(\\lambda [\\)nm\\(]\\)\")\n",
    "\n",
    "plt.tight_layout(pad=0.3)\n",
    "plt.savefig(figures_dir + \"approximation.pdf\", transparent=True)\n",
    "plt.show()"
   ]
  },
  {
   "cell_type": "code",
   "execution_count": null,
   "metadata": {},
   "outputs": [],
   "source": []
  }
 ],
 "metadata": {
  "kernelspec": {
   "display_name": "Python 3 (ipykernel)",
   "language": "python",
   "name": "python3"
  },
  "language_info": {
   "codemirror_mode": {
    "name": "ipython",
    "version": 3
   },
   "file_extension": ".py",
   "mimetype": "text/x-python",
   "name": "python",
   "nbconvert_exporter": "python",
   "pygments_lexer": "ipython3",
   "version": "3.9.7"
  }
 },
 "nbformat": 4,
 "nbformat_minor": 1
}
