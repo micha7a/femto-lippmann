{
 "cells": [
  {
   "cell_type": "code",
   "execution_count": null,
   "metadata": {},
   "outputs": [],
   "source": [
    "import numpy as np\n",
    "import matplotlib.pyplot as plt\n",
    "import wave as w\n",
    "import copy\n",
    "np.set_printoptions(precision=2)\n",
    "from cycler import cycler\n",
    "plt.rcParams.update(plt.rcParamsDefault)"
   ]
  },
  {
   "cell_type": "markdown",
   "metadata": {},
   "source": [
    "# Example usage of simulated materials\n",
    "This notebook is ment as an reference on how to use `Spectrum` and `Material` classes,\n",
    "and for visual test of the implementation."
   ]
  },
  {
   "cell_type": "markdown",
   "metadata": {},
   "source": [
    "### Generate an example spectrum"
   ]
  },
  {
   "cell_type": "code",
   "execution_count": null,
   "metadata": {},
   "outputs": [],
   "source": [
    "s = w.GaussianSpectrum(mean=w.GREEN, std=(5*w.MICRO))\n",
    "# s = w.DeltaSpectrum(wavelength=w.GREEN)\n",
    "z = np.linspace(-6*w.MICRO, 6*w.MICRO, 1000)\n",
    "s.delay(0)\n",
    "\n",
    "fig, (ax1, ax2) = plt.subplots(1, 2, figsize=(10, 5))\n",
    "s.plot(ax=ax1, wavelength=True)\n",
    "s.plot_amplitude(z, ax=ax2)\n",
    "plt.show()"
   ]
  },
  {
   "cell_type": "markdown",
   "metadata": {},
   "source": [
    "### Compare different materials\n",
    "\n",
    "#### Analitical vs constant"
   ]
  },
  {
   "cell_type": "code",
   "execution_count": null,
   "metadata": {},
   "outputs": [],
   "source": [
    "air = w.EmptySpace(z=z, name=\"analytic\")\n",
    "common_n = 1\n",
    "fixed_dielectric = w.ConstantMaterial(z=z, n0=common_n, name=\"phase shift\")\n",
    "dielectric = w.SimpleDielectric(z=z, n0=1, name=\"transfer matrices\")\n",
    "\n",
    "fig, (ax1, ax2, ax3) = plt.subplots(1, 3, figsize=(15, 5))\n",
    "\n",
    "air.plot(ax1)\n",
    "fixed_dielectric.plot(ax2)\n",
    "dielectric.plot(ax3)\n",
    "plt.show()"
   ]
  },
  {
   "cell_type": "code",
   "execution_count": null,
   "metadata": {},
   "outputs": [],
   "source": [
    "plt.plot(z, air.energy_distribution(s,s), label=\"analitical\")\n",
    "plt.plot(dielectric.z[:-1], dielectric.energy_distribution(s, s)[:-1], label=\"numerical - wave transfer matrices\")\n",
    "plt.plot(fixed_dielectric.z, fixed_dielectric.energy_distribution(s, s), label=\"numerical - phase shift\")\n",
    "plt.legend()\n",
    "plt.show()"
   ]
  },
  {
   "cell_type": "markdown",
   "metadata": {},
   "source": [
    "### An example recording"
   ]
  },
  {
   "cell_type": "code",
   "execution_count": null,
   "metadata": {},
   "outputs": [],
   "source": [
    "dielectric = w.SimpleDielectric(z=z, n0=1.45, name=\"transfer matrices\")\n",
    "s0 = w.GaussianSpectrum(mean=w.GREEN, std=(5*w.MICRO))\n",
    "dielectric.record(s0, s0)\n",
    "fig, (ax1, ax2) = plt.subplots(1, 2, figsize=(10, 5))\n",
    "ax1.plot(dielectric.z[:-1], dielectric.recent_energy[:-1])\n",
    "ax1.set_title(\"interference\")\n",
    "dielectric.plot(plot_imaginary=False, ax=ax2)\n",
    "plt.show()"
   ]
  },
  {
   "cell_type": "code",
   "execution_count": null,
   "metadata": {},
   "outputs": [],
   "source": [
    "steps = 20\n",
    "plt.rcParams['axes.prop_cycle'] = cycler('color', plt.get_cmap('viridis')(np.linspace(0, 1, steps+1)))"
   ]
  },
  {
   "cell_type": "code",
   "execution_count": null,
   "metadata": {},
   "outputs": [],
   "source": [
    "dielectric = w.SimpleDielectric(z=z, n0=1)\n",
    "fig, (ax1, ax2) = plt.subplots(1, 2, figsize=(10, 5))\n",
    "\n",
    "for pulse in range(steps):\n",
    "    phase = 0\n",
    "    s2 = s0 * np.exp(1j*phase)\n",
    "    dielectric.plot(ax=ax2, plot_imaginary=False, alpha=0.5)\n",
    "    dielectric.record(s0, s2)\n",
    "    ax1.plot(dielectric.z[:-1], dielectric.recent_energy[:-1], label=\"pulse {}\".format(pulse + 1), alpha=0.5)\n",
    "    \n",
    "plt.legend(loc=3)\n",
    "plt.show()"
   ]
  },
  {
   "cell_type": "code",
   "execution_count": null,
   "metadata": {},
   "outputs": [],
   "source": []
  }
 ],
 "metadata": {
  "kernelspec": {
   "display_name": "Python 3",
   "language": "python",
   "name": "python3"
  },
  "language_info": {
   "codemirror_mode": {
    "name": "ipython",
    "version": 3
   },
   "file_extension": ".py",
   "mimetype": "text/x-python",
   "name": "python",
   "nbconvert_exporter": "python",
   "pygments_lexer": "ipython3",
   "version": "3.7.1"
  }
 },
 "nbformat": 4,
 "nbformat_minor": 1
}
