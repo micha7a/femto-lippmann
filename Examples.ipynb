{
 "cells": [
  {
   "cell_type": "code",
   "execution_count": null,
   "metadata": {},
   "outputs": [],
   "source": [
    "import numpy as np\n",
    "import matplotlib.pyplot as plt\n",
    "import copy\n",
    "np.set_printoptions(precision=2)\n",
    "from cycler import cycler\n",
    "plt.rcParams.update(plt.rcParamsDefault)\n",
    "\n",
    "import wave as w\n",
    "import constants as c\n",
    "import material as m"
   ]
  },
  {
   "cell_type": "markdown",
   "metadata": {},
   "source": [
    "# Example usage of simulated materials\n",
    "This notebook is ment as an reference on how to use `PlaneWave` and `Material` classes,\n",
    "and for visual test of the implementation."
   ]
  },
  {
   "cell_type": "markdown",
   "metadata": {},
   "source": [
    "### Generate an example spectrum\n",
    "Just an example how to create and plot wave."
   ]
  },
  {
   "cell_type": "code",
   "execution_count": null,
   "metadata": {},
   "outputs": [],
   "source": [
    "s = w.GaussianPlanarWave(mean=c.GREEN, std=(5*c.MICRO))\n",
    "# s = w.DeltaPlanarWave(wavelength=c.GREEN)\n",
    "z = np.linspace(-6*c.MICRO, 6*c.MICRO, 1000)\n",
    "s.delay(0)\n",
    "\n",
    "fig, (ax1, ax2) = plt.subplots(1, 2, figsize=(10, 5))\n",
    "s.plot(ax=ax1, spectrum_axis=ax1.twinx(), wavelength=True)\n",
    "s.plot_amplitude(z, ax=ax2)\n",
    "ax2.legend()\n",
    "fig.tight_layout()\n",
    "plt.savefig(\"spectrum.pdf\")\n",
    "plt.show()"
   ]
  },
  {
   "cell_type": "markdown",
   "metadata": {},
   "source": [
    "### Compare different materials\n",
    "\n",
    "#### Analitical vs constant vs matrix theory\n",
    "Create the same material (empty space) using three different material models in oder to inspect that they give the same resut."
   ]
  },
  {
   "cell_type": "code",
   "execution_count": null,
   "metadata": {},
   "outputs": [],
   "source": [
    "air = m.EmptySpace(z=z, name=\"analytic\")\n",
    "common_n = 1\n",
    "fixed_dielectric = m.ConstantMaterial(z=z, n0=common_n, name=\"phase shift\")\n",
    "dielectric = m.SimpleDielectric(z=z, n0=1, name=\"transfer matrices\")\n",
    "\n",
    "fig, (ax1, ax2, ax3) = plt.subplots(1, 3, figsize=(15, 5))\n",
    "\n",
    "air.plot(ax1, imaginary_axis=ax1.twinx())\n",
    "fixed_dielectric.plot(ax2, imaginary_axis=ax2.twinx())\n",
    "dielectric.plot(ax3, imaginary_axis=ax3.twinx())\n",
    "fig.tight_layout() \n",
    "plt.show()"
   ]
  },
  {
   "cell_type": "markdown",
   "metadata": {},
   "source": [
    "Calculate interference pattern in those three materials: again we can see that the patterns match. \n",
    "The index of refraction after recording would be different in those materials because ConstantMaterial's index of refraction cannot be modified."
   ]
  },
  {
   "cell_type": "code",
   "execution_count": null,
   "metadata": {
    "scrolled": true
   },
   "outputs": [],
   "source": [
    "fig, (ax1) = plt.subplots(1, 1, figsize=(8,4))\n",
    "\n",
    "air.record(s,s)\n",
    "air.plot_recent_energy(ax1, label=\"air\")\n",
    "dielectric.record(s,s)\n",
    "dielectric.plot_recent_energy(ax1, label=\"matrix theory\")\n",
    "fixed_dielectric.record(s,s)\n",
    "fixed_dielectric.plot_recent_energy(ax1, label=\"correlation\")\n",
    "ax1.legend()\n",
    "plt.show()"
   ]
  },
  {
   "cell_type": "markdown",
   "metadata": {},
   "source": [
    "### An example recording\n",
    "\n",
    "Left: interference pattern \n",
    "created in the material. Middle: index of \n",
    "refraction after recording. Right: reflected pulse, when the \n",
    "incoming pulse was the same as the recorded."
   ]
  },
  {
   "cell_type": "code",
   "execution_count": null,
   "metadata": {},
   "outputs": [],
   "source": [
    "z = np.linspace(-6*c.MICRO, 6*c.MICRO, 1000)\n",
    "dielectric = m.SimpleDielectric(z=z, n0=1.45, name=\"transfer matrices\")\n",
    "s0 = w.GaussianPlanarWave(mean=c.GREEN, std=(5*c.MICRO))\n",
    "dielectric.record(s0, s0)\n",
    "fig, (ax1, ax2, ax3) = plt.subplots(1, 3, figsize=(15, 5))\n",
    "dielectric.plot_recent_energy(ax1)\n",
    "ax1.set_title(\"interference\")\n",
    "dielectric.plot(imaginary_axis=ax2.twinx(), ax=ax2)\n",
    "dielectric.reflect(s0).plot(ax3, spectrum_axis=ax3.twinx(), wavelength=True)\n",
    "plt.tight_layout()\n",
    "plt.savefig(\"recording.pdf\")\n",
    "plt.show()"
   ]
  },
  {
   "cell_type": "markdown",
   "metadata": {},
   "source": [
    "### Layered material\n",
    "\n",
    "Left: interference \n",
    "pattern \n",
    "created in the material. Middle: index of refraction after recording. Right: \n",
    "reflected pulse. All inner implementations are the same as for dielectric.\n",
    "Additionally, on the first two plots shading is \n",
    "added to indicate layers of different index of \n",
    "refraction."
   ]
  },
  {
   "cell_type": "code",
   "execution_count": null,
   "metadata": {},
   "outputs": [],
   "source": [
    "z_layered = np.linspace(-2*c.MICRO, 2*c.MICRO, 1000)\n",
    "layered = m.LayeredMaterial(z=z_layered, n_layers=20, layer_width=80*c.NANO, n0=1.5, n1=2.0)\n",
    "\n",
    "fig, (ax1, ax2, ax3) = plt.subplots(1, 3, figsize=(15, 5))\n",
    "layered.shade_plot(ax1, alpha=0.2)\n",
    "layered.plot(ax1, imaginary_axis=ax1.twinx())\n",
    "layered.shade_plot(ax2, alpha=0.2)\n",
    "layered.reflect(s).plot(ax3, label=\"reflected\", wavelength=True, spectrum_axis=ax3.twinx())\n",
    "layered.record(s, s)\n",
    "layered.plot_recent_energy(ax2)\n",
    "fig.tight_layout() \n",
    "plt.savefig(\"layered.pdf\")\n",
    "plt.show()"
   ]
  },
  {
   "cell_type": "markdown",
   "metadata": {},
   "source": [
    "### Composite Material\n",
    "\n",
    "Left: \n",
    "interference pattern \n",
    "created in the material. Middle: index of refraction after recording. Right: \n",
    "reflected pulse. All inner implementations are the same as for dielectric. Again, the shading is \n",
    "added to indicate different components. The strange reflected wave shape comes mostly from interfaces with air which haven't been modeled before."
   ]
  },
  {
   "cell_type": "code",
   "execution_count": null,
   "metadata": {},
   "outputs": [],
   "source": [
    "z_layered = np.linspace(-2*c.MICRO, 2*c.MICRO, 1000)\n",
    "z_air = np.linspace(-0.4*c.MICRO, 0, 100)\n",
    "z_clean = np.linspace(-1.6*c.MICRO, 0, 400)\n",
    "air = m.EmptySpace(z=z_air)\n",
    "clean = m.SimpleDielectric(z=z_clean, n0=1.5)\n",
    "layered = m.LayeredMaterial(z=z_layered, n_layers=20, layer_width=80*c.NANO, n0=1.5, n1=2.0)\n",
    "composite = m.CompositeMaterial([air, layered, clean, air])\n",
    "\n",
    "fig, (ax1, ax2, ax3) = plt.subplots(1, 3, figsize=(15, 5))\n",
    "composite.shade_plot(ax1, alpha=0.2)\n",
    "composite.plot(ax1, imaginary_axis=ax1.twinx())\n",
    "composite.shade_plot(ax2, alpha=0.2)\n",
    "composite.reflect(s).plot(ax3, label=\"reflected\", wavelength=True, spectrum_axis=ax3.twinx())\n",
    "composite.record(s, s)\n",
    "composite.plot_recent_energy(ax2)\n",
    "fig.tight_layout() \n",
    "plt.savefig(\"composite.pdf\")\n",
    "plt.show()"
   ]
  },
  {
   "cell_type": "markdown",
   "metadata": {},
   "source": [
    "### Random phase example\n",
    "\n",
    "Random phase. One pulse is kept the same, and the phase of the second \n",
    "one is choose uniformly at random form interval $(0, \\pi)$. On the top left \n",
    "plot we can see that the interference patter indeed get blurred, and on the top \n",
    "right we can see that there is indeed a Gaussian shape emerging at the basis of \n",
    "the interference pattern. Fortunately, the patter still has a lot of variance at \n",
    "the right frequency, and thus with each pulse more gets reflected, as depicted \n",
    "at the bottom plots. We can see that there gain is not the same with every \n",
    "pulse."
   ]
  },
  {
   "cell_type": "code",
   "execution_count": null,
   "metadata": {},
   "outputs": [],
   "source": [
    "steps = 20\n",
    "colors = cycler('color', plt.get_cmap('viridis')(np.linspace(0, 1, steps)))\n",
    "colors = colors.by_key()['color']"
   ]
  },
  {
   "cell_type": "code",
   "execution_count": null,
   "metadata": {},
   "outputs": [],
   "source": [
    "dielectric = m.SimpleDielectric(z=z, n0=1)\n",
    "fig, ((ax1, ax2), (ax3, ax4)) = plt.subplots(nrows=2, ncols=2, figsize=(10, 10))\n",
    "\n",
    "for pulse, color in enumerate(colors):\n",
    "    phase = np.random.uniform(0, np.pi)\n",
    "    s2 = s0 * np.exp(1j*phase)\n",
    "    dielectric.plot(ax=ax2, alpha=0.2, color=color)\n",
    "    dielectric.record(s0, s2)\n",
    "    dielectric.plot_recent_energy(ax1, label=\"pulse {}\".format(pulse + 1), alpha=0.2, c=color)\n",
    "    ax1.set_title(\"interference\")\n",
    "    dielectric.reflect(s0).plot(ax3, spectrum_axis=ax4, alpha=0.5, color=color)\n",
    "    ax3.set_title(\"reflected\")\n",
    "    ax4.set_title(\"reflected\")\n",
    "        \n",
    "plt.tight_layout()\n",
    "plt.savefig(\"random_phase.pdf\")\n",
    "plt.show()"
   ]
  },
  {
   "cell_type": "markdown",
   "metadata": {},
   "source": [
    "### Sweeping phase example\n",
    "\n",
    "Random phase. One pulse is kept the same, and the phase of the second \n",
    "one is changing by $\\pi/20$ with each pulse. On the top left \n",
    "plot we can see that the interference patter shifts to the right, and on the top \n",
    "right we can see the refractive index pattern is much sharper than in the previous example. The total reflection is however very similar. It seems \n",
    "to reach saturation faster, and be slightly sharper in wavelength."
   ]
  },
  {
   "cell_type": "code",
   "execution_count": null,
   "metadata": {},
   "outputs": [],
   "source": [
    "dielectric = m.SimpleDielectric(z=z, n0=1)\n",
    "fig, ((ax1, ax2), (ax3, ax4)) = plt.subplots(nrows=2, ncols=2, figsize=(10, 10))\n",
    "\n",
    "for pulse, color in enumerate(colors):\n",
    "    phase = np.pi*pulse/steps\n",
    "    s2 = s0 * np.exp(1j*phase)\n",
    "    dielectric.plot(ax=ax2, alpha=0.2, color=color)\n",
    "    dielectric.record(s0, s2)\n",
    "    dielectric.plot_recent_energy(ax1, label=\"pulse {}\".format(pulse + 1), alpha=0.2, c=color)\n",
    "    ax1.set_title(\"interference\")\n",
    "    dielectric.reflect(s0).plot(ax3, spectrum_axis=ax4, alpha=0.5, color=color)\n",
    "    ax3.set_title(\"reflected\")\n",
    "    ax4.set_title(\"reflected\")\n",
    "\n",
    "plt.tight_layout()\n",
    "plt.savefig(\"sweeping_phase.pdf\")      \n",
    "plt.show()"
   ]
  },
  {
   "cell_type": "markdown",
   "metadata": {},
   "source": [
    "### Chirps example\n",
    "\n",
    "#### Different chirps interfering with their copies. \n",
    "Left: chirping Gaussian spectrum leads to spreading of the pulse amplitude in \n",
    "time (and thus in space). Middle and right: the recorded patterns and reflected \n",
    "spectra look the same across the experiments."
   ]
  },
  {
   "cell_type": "code",
   "execution_count": null,
   "metadata": {},
   "outputs": [],
   "source": [
    "z = np.linspace(-6*c.MICRO, 6*c.MICRO, 2000)\n",
    "probing_wave = w.GaussianPlanarWave(mean=c.GREEN, std=(5*c.MICRO))\n",
    "for chirp in np.linspace(0, 0.002*c.NANO, 3):\n",
    "    dielectric = m.SimpleDielectric(z=z, n0=1.45, name=\"transfer matrices\")\n",
    "    chirped_wave = w.ChirpedPlanarWave(mean=c.GREEN, std=(5*c.MICRO), skew=chirp)\n",
    "    dielectric.record(chirped_wave, chirped_wave)\n",
    "    fig, (ax1, ax2, ax3) = plt.subplots(1, 3, figsize=(15, 5))\n",
    "    chirped_wave.plot_amplitude(z, ax=ax1)\n",
    "    ax1.set_title(\"chirp {:2.1e}\".format(chirp))\n",
    "    dielectric.plot(imaginary_axis=ax2.twinx(), ax=ax2)\n",
    "    dielectric.reflect(probing_wave).plot(ax3, spectrum_axis=ax3.twinx())\n",
    "    plt.tight_layout()\n",
    "    plt.savefig(\"chirp_only_{:2.0e}.pdf\".format(chirp))\n",
    "    plt.show()"
   ]
  },
  {
   "cell_type": "markdown",
   "metadata": {},
   "source": [
    "#### Chirps interfering with a non chirped pulse.\n",
    "\n",
    "Left: interference \n",
    "patterns look change if only one of the pulses is chirped. Right and middle:\n",
    "the recorded pattern and the reflected spectrum differ from plot to plot. \n",
    "It is hard to tell how significant this change is."
   ]
  },
  {
   "cell_type": "code",
   "execution_count": null,
   "metadata": {},
   "outputs": [],
   "source": [
    "z = np.linspace(-6*c.MICRO, 6*c.MICRO, 2000)\n",
    "probing_wave = w.GaussianPlanarWave(mean=c.GREEN, std=(5*c.MICRO))\n",
    "for chirp in np.linspace(0, 0.002*c.NANO, 3):\n",
    "    dielectric = m.SimpleDielectric(z=z, n0=1.45, name=\"transfer matrices\")\n",
    "    chirped_wave = w.ChirpedPlanarWave(mean=c.GREEN, std=(5*c.MICRO), skew=chirp)\n",
    "    dielectric.record(chirped_wave, probing_wave)\n",
    "    fig, (ax1, ax2, ax3) = plt.subplots(1, 3, figsize=(15, 5))\n",
    "    dielectric.plot_recent_energy(ax1)\n",
    "    ax1.set_title(\"interference (chirp {:2.1e})\".format(chirp))\n",
    "    dielectric.plot(imaginary_axis=ax2.twinx(), ax=ax2)\n",
    "    dielectric.reflect(probing_wave).plot(ax3, spectrum_axis=ax3.twinx())\n",
    "    plt.tight_layout()\n",
    "    plt.savefig(\"chirp_mixed_{:2.0e}.pdf\".format(chirp))\n",
    "    plt.show()"
   ]
  }
 ],
 "metadata": {
  "kernelspec": {
   "display_name": "Python 3",
   "language": "python",
   "name": "python3"
  },
  "language_info": {
   "codemirror_mode": {
    "name": "ipython",
    "version": 3
   },
   "file_extension": ".py",
   "mimetype": "text/x-python",
   "name": "python",
   "nbconvert_exporter": "python",
   "pygments_lexer": "ipython3",
   "version": "3.7.3"
  }
 },
 "nbformat": 4,
 "nbformat_minor": 1
}
