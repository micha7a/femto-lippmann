{
 "cells": [
  {
   "cell_type": "code",
   "execution_count": null,
   "metadata": {},
   "outputs": [],
   "source": [
    "import numpy as np\n",
    "import matplotlib.pyplot as plt\n",
    "import wave as w\n",
    "import copy\n",
    "np.set_printoptions(precision=2)\n",
    "from cycler import cycler\n",
    "# w.Spectrum.k = np.array([w.GREEN, w.GREEN*1.01])\n",
    "plt.rcParams['axes.prop_cycle'] = cycler('color', plt.get_cmap('viridis')(np.linspace(0, 1, 21)))"
   ]
  },
  {
   "cell_type": "code",
   "execution_count": null,
   "metadata": {},
   "outputs": [],
   "source": [
    "s = w.GaussianSpectrum(mean=w.GREEN, std=(5*w.MICRO))\n",
    "# s = w.DeltaSpectrum(wavelength=w.GREEN)\n",
    "z = np.linspace(-3*w.MICRO, 3*w.MICRO, 1000)\n",
    "s.delay(0)\n",
    "s.plot(wavelength=True)\n",
    "plt.show()\n",
    "s.plot_amplitude(z)\n",
    "plt.show()"
   ]
  },
  {
   "cell_type": "code",
   "execution_count": null,
   "metadata": {},
   "outputs": [],
   "source": [
    "intf = w.Interference(s, s)\n",
    "# for t in np.linspace(-2*np.pi, 2*np.pi, 11):\n",
    "#     plt.plot(z, intf.amplitude(z=z, time=t), c=\"C0\", alpha=0.2)\n",
    "plt.plot(z, intf.intensity(z=z))\n",
    "plt.show()"
   ]
  },
  {
   "cell_type": "code",
   "execution_count": null,
   "metadata": {},
   "outputs": [],
   "source": [
    "common_n = 1.4 + 0.001j\n",
    "fixed_dielectric = w.FixedDielectric(z=z, n0=common_n)\n",
    "fixed_dielectric.plot()\n",
    "plt.show()"
   ]
  },
  {
   "cell_type": "code",
   "execution_count": null,
   "metadata": {},
   "outputs": [],
   "source": [
    "# s.plot()\n",
    "# s.negative = False\n",
    "# trans = dielectrc.transmitted(s)\n",
    "# trans.plot()"
   ]
  },
  {
   "cell_type": "code",
   "execution_count": null,
   "metadata": {},
   "outputs": [],
   "source": [
    "plt.plot(fixed_dielectric.z, fixed_dielectric.energy_distribution(intf), label=\"propagated\")\n",
    "plt.plot(z, intf.intensity(z=z), label=\"analitical\")\n",
    "plt.legend()\n",
    "plt.show()"
   ]
  },
  {
   "cell_type": "code",
   "execution_count": null,
   "metadata": {},
   "outputs": [],
   "source": [
    "dielectric = w.Dielectric(z=z, n0=1, max_dn=0.2, max_visible_energy=0.5, min_energy=4e6, max_energy=1.2e7)\n",
    "dielectric.plot()\n",
    "plt.show()"
   ]
  },
  {
   "cell_type": "code",
   "execution_count": null,
   "metadata": {},
   "outputs": [],
   "source": [
    "dielectric.record(intf)"
   ]
  },
  {
   "cell_type": "code",
   "execution_count": null,
   "metadata": {},
   "outputs": [],
   "source": [
    "plt.plot(dielectric.z[:-1], dielectric.deposited_energy[:-1])\n",
    "plt.title(\"deposited energy\")\n",
    "plt.show()\n",
    "\n",
    "dielectric.plot(plot_imaginary=False)\n",
    "plt.show()"
   ]
  },
  {
   "cell_type": "code",
   "execution_count": null,
   "metadata": {},
   "outputs": [],
   "source": [
    "plt.plot(dielectric.z[:-1], dielectric.energy_distribution(intf)[:-1], label=\"numerical - wave transfer matrices\")\n",
    "plt.plot(fixed_dielectric.z, fixed_dielectric.energy_distribution(intf), label=\"numerical - phase shift\")\n",
    "# plt.plot(z, intf.intensity(z=z), label=\"analitical\", alpha=0.1)\n",
    "plt.legend()\n",
    "plt.show()"
   ]
  },
  {
   "cell_type": "code",
   "execution_count": null,
   "metadata": {},
   "outputs": [],
   "source": [
    "dielectric = w.Dielectric(z=z, n0=1, max_dn=0.2, max_visible_energy=4, min_energy=4e6, max_energy=1.5e7)\n",
    "for pulse in range(20):\n",
    "    phase = np.pi * pulse / 40\n",
    "    intf = w.Interference(s, s * np.exp(1j*phase))\n",
    "    plt.plot(dielectric.z[:-1], dielectric.energy_distribution(intf)[:-1], label=\"pulse {}\".format(pulse + 1), alpha=0.5)\n",
    "    dielectric.record(intf)\n",
    "    \n",
    "plt.legend(loc=3)\n",
    "plt.show()"
   ]
  },
  {
   "cell_type": "code",
   "execution_count": null,
   "metadata": {},
   "outputs": [],
   "source": [
    "dielectric = w.Dielectric(z=z, n0=1, max_dn=0.2, max_visible_energy=5, min_energy=4e6, max_energy=1.5e7)\n",
    "for pulse in range(20):\n",
    "    phase = np.pi * pulse / 40\n",
    "    intf = w.Interference(s, s * np.exp(1j*phase))\n",
    "    dielectric.plot(plot_imaginary=False, alpha=0.5)\n",
    "    dielectric.record(intf)\n",
    "    \n",
    "plt.legend()\n",
    "plt.show()"
   ]
  },
  {
   "cell_type": "code",
   "execution_count": null,
   "metadata": {},
   "outputs": [],
   "source": []
  }
 ],
 "metadata": {
  "kernelspec": {
   "display_name": "Python 3",
   "language": "python",
   "name": "python3"
  },
  "language_info": {
   "codemirror_mode": {
    "name": "ipython",
    "version": 3
   },
   "file_extension": ".py",
   "mimetype": "text/x-python",
   "name": "python",
   "nbconvert_exporter": "python",
   "pygments_lexer": "ipython3",
   "version": "3.7.1"
  }
 },
 "nbformat": 4,
 "nbformat_minor": 1
}
