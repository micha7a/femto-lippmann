{
 "cells": [
  {
   "cell_type": "code",
   "execution_count": null,
   "metadata": {},
   "outputs": [],
   "source": [
    "import numpy as np\n",
    "import matplotlib.pyplot as plt\n",
    "import copy\n",
    "np.set_printoptions(precision=2)\n",
    "from cycler import cycler\n",
    "plt.rcParams.update(plt.rcParamsDefault)\n",
    "\n",
    "import wave as w\n",
    "import constants as c\n",
    "import material as m"
   ]
  },
  {
   "cell_type": "markdown",
   "metadata": {},
   "source": [
    "# Example usage of simulated materials\n",
    "This notebook is ment as an reference on how to use `Spectrum` and `Material` classes,\n",
    "and for visual test of the implementation."
   ]
  },
  {
   "cell_type": "markdown",
   "metadata": {},
   "source": [
    "### Generate an example spectrum"
   ]
  },
  {
   "cell_type": "code",
   "execution_count": null,
   "metadata": {},
   "outputs": [],
   "source": [
    "s = w.GaussianPlanarWave(mean=c.GREEN, std=(5*c.MICRO))\n",
    "# s = w.DeltaPlanarWave(wavelength=c.GREEN)\n",
    "z = np.linspace(-6*c.MICRO, 6*c.MICRO, 1000)\n",
    "s.delay(0)\n",
    "\n",
    "fig, (ax1, ax2) = plt.subplots(1, 2, figsize=(10, 5))\n",
    "s.plot(ax=ax1, spectrum_axis=ax1.twinx(), wavelength=True)\n",
    "s.plot_amplitude(z, ax=ax2)\n",
    "ax2.legend()\n",
    "fig.tight_layout() \n",
    "plt.show()"
   ]
  },
  {
   "cell_type": "markdown",
   "metadata": {},
   "source": [
    "### Compare different materials\n",
    "\n",
    "#### Analitical vs constant vs matrix theory"
   ]
  },
  {
   "cell_type": "code",
   "execution_count": null,
   "metadata": {},
   "outputs": [],
   "source": [
    "air = m.EmptySpace(z=z, name=\"analytic\")\n",
    "common_n = 1\n",
    "fixed_dielectric = m.ConstantMaterial(z=z, n0=common_n, name=\"phase shift\")\n",
    "dielectric = m.SimpleDielectric(z=z, n0=1, name=\"transfer matrices\")\n",
    "\n",
    "fig, (ax1, ax2, ax3) = plt.subplots(1, 3, figsize=(15, 5))\n",
    "\n",
    "air.plot(ax1, imaginary_axis=ax1.twinx())\n",
    "fixed_dielectric.plot(ax2, imaginary_axis=ax2.twinx())\n",
    "dielectric.plot(ax3, imaginary_axis=ax3.twinx())\n",
    "fig.tight_layout() \n",
    "plt.show()"
   ]
  },
  {
   "cell_type": "code",
   "execution_count": null,
   "metadata": {},
   "outputs": [],
   "source": [
    "fig, (ax1, ax2) = plt.subplots(1, 2, figsize=(10, 5))\n",
    "\n",
    "air.record(s,s)\n",
    "air.plot_recent_energy(ax1, label=\"air\")\n",
    "dielectric.record(s,s)\n",
    "dielectric.plot_recent_energy(ax1, label=\"matrix theory\")\n",
    "fixed_dielectric.record(s,s)\n",
    "fixed_dielectric.plot_recent_energy(ax1, label=\"correlation\")\n",
    "ax1.legend()\n",
    "\n",
    "air.transmit(s).plot(ax2)\n",
    "dielectric.transmit(s).plot(ax2, spectrum_axis=ax2.twinx())\n",
    "fixed_dielectric.transmit(s).plot(ax2, label=\"reflected\")\n",
    "plt.show()"
   ]
  },
  {
   "cell_type": "markdown",
   "metadata": {},
   "source": [
    "### Layered material"
   ]
  },
  {
   "cell_type": "code",
   "execution_count": null,
   "metadata": {},
   "outputs": [],
   "source": [
    "z_layered = np.linspace(-2*c.MICRO, 2*c.MICRO, 1000)\n",
    "layered = m.LayeredMaterial(z=z_layered, n_layers=20, layer_width=80*c.NANO, n0=1.5, n1=2.0)\n",
    "\n",
    "fig, (ax1, ax2, ax3) = plt.subplots(1, 3, figsize=(15, 5))\n",
    "layered.shade_plot(ax1, alpha=0.2)\n",
    "layered.plot(ax1, imaginary_axis=ax1.twinx())\n",
    "layered.shade_plot(ax2, alpha=0.2)\n",
    "layered.reflect(s).plot(ax3, label=\"reflected\", wavelength=True, spectrum_axis=ax3.twinx())\n",
    "layered.record(s, s)\n",
    "layered.plot_recent_energy(ax2)\n",
    "fig.tight_layout() \n",
    "plt.savefig(\"layered2.pdf\")\n",
    "plt.show()"
   ]
  },
  {
   "cell_type": "markdown",
   "metadata": {},
   "source": [
    "### Composite Material"
   ]
  },
  {
   "cell_type": "code",
   "execution_count": null,
   "metadata": {},
   "outputs": [],
   "source": [
    "z_layered = np.linspace(-2*c.MICRO, 2*c.MICRO, 1000)\n",
    "z_air = np.linspace(-0.4*c.MICRO, 0, 100)\n",
    "z_clean = np.linspace(-1.6*c.MICRO, 0, 400)\n",
    "air = m.EmptySpace(z=z_air)\n",
    "clean = m.SimpleDielectric(z=z_clean, n0=1.5)\n",
    "layered = m.LayeredMaterial(z=z_layered, n_layers=20, layer_width=80*c.NANO, n0=1.5, n1=2.0)\n",
    "composite = m.CompositeMaterial([air, layered, clean, air])\n",
    "\n",
    "fig, (ax1, ax2, ax3) = plt.subplots(1, 3, figsize=(15, 5))\n",
    "composite.shade_plot(ax1, alpha=0.2)\n",
    "composite.plot(ax1, imaginary_axis=ax1.twinx())\n",
    "composite.shade_plot(ax2, alpha=0.2)\n",
    "composite.reflect(s).plot(ax3, label=\"reflected\", wavelength=True, spectrum_axis=ax3.twinx())\n",
    "composite.record(s, s)\n",
    "composite.plot_recent_energy(ax2)\n",
    "fig.tight_layout() \n",
    "plt.savefig(\"layered2.pdf\")\n",
    "plt.show()"
   ]
  },
  {
   "cell_type": "markdown",
   "metadata": {},
   "source": [
    "### An example recording"
   ]
  },
  {
   "cell_type": "code",
   "execution_count": null,
   "metadata": {},
   "outputs": [],
   "source": [
    "z = np.linspace(-6*c.MICRO, 6*c.MICRO, 1000)\n",
    "dielectric = m.SimpleDielectric(z=z, n0=1.45, name=\"transfer matrices\")\n",
    "s0 = w.GaussianPlanarWave(mean=c.GREEN, std=(5*c.MICRO))\n",
    "dielectric.record(s0, s0)\n",
    "fig, (ax1, ax2, ax3) = plt.subplots(1, 3, figsize=(15, 5))\n",
    "dielectric.plot_recent_energy(ax1)\n",
    "ax1.set_title(\"interference\")\n",
    "dielectric.plot(imaginary_axis=ax2.twinx(), ax=ax2)\n",
    "dielectric.reflect(s0).plot(ax3, spectrum_axis=ax3.twinx())\n",
    "plt.tight_layout()\n",
    "plt.show()"
   ]
  },
  {
   "cell_type": "markdown",
   "metadata": {},
   "source": [
    "### Random phase example"
   ]
  },
  {
   "cell_type": "code",
   "execution_count": null,
   "metadata": {},
   "outputs": [],
   "source": [
    "steps = 20\n",
    "colors = cycler('color', plt.get_cmap('viridis')(np.linspace(0, 1, steps+1)))\n",
    "colors = colors.by_key()['color']"
   ]
  },
  {
   "cell_type": "code",
   "execution_count": null,
   "metadata": {},
   "outputs": [],
   "source": [
    "dielectric = m.SimpleDielectric(z=z, n0=1)\n",
    "fig, ((ax1, ax2), (ax3, ax4)) = plt.subplots(nrows=2, ncols=2, figsize=(10, 10))\n",
    "ax2twin = ax2.twinx()\n",
    "\n",
    "for pulse, color in enumerate(colors):\n",
    "    phase = np.random.uniform(0, np.pi)\n",
    "    s2 = s0 * np.exp(1j*phase)\n",
    "    dielectric.plot(ax=ax2, imaginary_axis=ax2twin, alpha=0.1, color=color)\n",
    "    dielectric.record(s0, s2)\n",
    "    ax1.plot(dielectric.z[:-1], dielectric.recent_energy[:-1], label=\"pulse {}\".format(pulse + 1), alpha=0.5, c=color)\n",
    "    ax1.set_title(\"interference patterns\")\n",
    "    ax1.legend()\n",
    "    dielectric.reflect(s0).plot(ax3, spectrum_axis=ax4, alpha=0.5, color=color)\n",
    "    ax3.set_title(\"reflected\")\n",
    "    ax4.set_title(\"reflected\")\n",
    "        \n",
    "plt.tight_layout()        \n",
    "plt.show()"
   ]
  },
  {
   "cell_type": "markdown",
   "metadata": {},
   "source": [
    "### Sweeping phase example"
   ]
  },
  {
   "cell_type": "code",
   "execution_count": null,
   "metadata": {},
   "outputs": [],
   "source": [
    "dielectric = m.SimpleDielectric(z=z, n0=1)\n",
    "fig, ((ax1, ax2), (ax3, ax4)) = plt.subplots(nrows=2, ncols=2, figsize=(10, 10))\n",
    "ax2twin = ax2.twinx()\n",
    "\n",
    "for pulse, color in enumerate(colors):\n",
    "    phase = np.pi*pulse/steps\n",
    "    s2 = s0 * np.exp(1j*phase)\n",
    "    dielectric.plot(ax=ax2, imaginary_axis=ax2twin, alpha=0.1, color=color)\n",
    "    dielectric.record(s0, s2)\n",
    "    ax1.plot(dielectric.z[:-1], dielectric.recent_energy[:-1], label=\"pulse {}\".format(pulse + 1), alpha=0.5, c=color)\n",
    "    ax1.set_title(\"interference patterns\")\n",
    "    ax1.legend()\n",
    "    dielectric.reflect(s0).plot(ax3, spectrum_axis=ax4, alpha=0.5, color=color)\n",
    "    ax3.set_title(\"reflected\")\n",
    "    ax4.set_title(\"reflected\")\n",
    "        \n",
    "plt.tight_layout()        \n",
    "plt.show()"
   ]
  },
  {
   "cell_type": "markdown",
   "metadata": {},
   "source": [
    "### Chirps example"
   ]
  },
  {
   "cell_type": "code",
   "execution_count": null,
   "metadata": {},
   "outputs": [],
   "source": [
    "# TODO what is the right unit for the chirp?\n",
    "\n",
    "z = np.linspace(-6*c.MICRO, 6*c.MICRO, 1000)\n",
    "dielectric = m.SimpleDielectric(z=z, n0=1.45, name=\"transfer matrices\")\n",
    "probing_wave = w.GaussianPlanarWave(mean=c.GREEN, std=(5*c.MICRO))\n",
    "for chirp in np.linspace(0, 0.002*c.NANO, 3):\n",
    "    chirped_wave = w.ChirpedPlanarWave(mean=c.GREEN, std=(5*c.MICRO), skew=chirp)\n",
    "    dielectric.record(chirped_wave, chirped_wave)\n",
    "    fig, (ax1, ax2, ax3) = plt.subplots(1, 3, figsize=(15, 5))\n",
    "    chirped_wave.plot_amplitude(z, ax=ax1)\n",
    "    ax1.set_title(\"interference\")\n",
    "    dielectric.plot(imaginary_axis=ax2.twinx(), ax=ax2)\n",
    "    dielectric.reflect(probing_wave).plot(ax3, spectrum_axis=ax3.twinx())\n",
    "    plt.tight_layout()\n",
    "    plt.show()"
   ]
  },
  {
   "cell_type": "code",
   "execution_count": null,
   "metadata": {},
   "outputs": [],
   "source": [
    "z = np.linspace(-6*c.MICRO, 6*c.MICRO, 1000)\n",
    "dielectric = m.SimpleDielectric(z=z, n0=1.45, name=\"transfer matrices\")\n",
    "probing_wave = w.GaussianPlanarWave(mean=c.GREEN, std=(5*c.MICRO))\n",
    "for chirp in np.linspace(0, 0.002*c.NANO, 3):\n",
    "    chirped_wave = w.ChirpedPlanarWave(mean=c.GREEN, std=(5*c.MICRO), skew=chirp)\n",
    "    dielectric.record(chirped_wave, probing_wave)\n",
    "    fig, (ax1, ax2, ax3) = plt.subplots(1, 3, figsize=(15, 5))\n",
    "    dielectric.plot_recent_energy(ax1)\n",
    "    ax1.set_title(\"interference\")\n",
    "    dielectric.plot(imaginary_axis=ax2.twinx(), ax=ax2)\n",
    "    dielectric.reflect(probing_wave).plot(ax3, spectrum_axis=ax3.twinx())\n",
    "    plt.tight_layout()\n",
    "    plt.show()"
   ]
  },
  {
   "cell_type": "code",
   "execution_count": null,
   "metadata": {},
   "outputs": [],
   "source": []
  }
 ],
 "metadata": {
  "kernelspec": {
   "display_name": "Python 3",
   "language": "python",
   "name": "python3"
  },
  "language_info": {
   "codemirror_mode": {
    "name": "ipython",
    "version": 3
   },
   "file_extension": ".py",
   "mimetype": "text/x-python",
   "name": "python",
   "nbconvert_exporter": "python",
   "pygments_lexer": "ipython3",
   "version": "3.7.3"
  }
 },
 "nbformat": 4,
 "nbformat_minor": 1
}
