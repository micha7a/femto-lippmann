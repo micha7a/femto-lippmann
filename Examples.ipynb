{
 "cells": [
  {
   "cell_type": "code",
   "execution_count": null,
   "metadata": {},
   "outputs": [],
   "source": [
    "import numpy as np\n",
    "import matplotlib.pyplot as plt\n",
    "import wave as w\n",
    "import copy\n",
    "np.set_printoptions(precision=2)\n",
    "from cycler import cycler\n",
    "plt.rcParams.update(plt.rcParamsDefault)"
   ]
  },
  {
   "cell_type": "markdown",
   "metadata": {},
   "source": [
    "# Example usage of simulated materials\n",
    "This notebook is ment as an reference on how to use `Spectrum` and `Material` classes,\n",
    "and for visual test of the implementation."
   ]
  },
  {
   "cell_type": "markdown",
   "metadata": {},
   "source": [
    "### Generate an example spectrum"
   ]
  },
  {
   "cell_type": "code",
   "execution_count": null,
   "metadata": {},
   "outputs": [],
   "source": [
    "s = w.GaussianSpectrum(mean=w.GREEN, std=(5*w.MICRO))\n",
    "# s = w.DeltaSpectrum(wavelength=w.GREEN)\n",
    "z = np.linspace(-3*w.MICRO, 3*w.MICRO, 1000)\n",
    "s.delay(0)\n",
    "s.plot(wavelength=True)\n",
    "plt.show()\n",
    "s.plot_amplitude(z)\n",
    "plt.show()"
   ]
  },
  {
   "cell_type": "markdown",
   "metadata": {},
   "source": [
    "### Compare different materials\n",
    "\n",
    "#### Analitical vs constant"
   ]
  },
  {
   "cell_type": "code",
   "execution_count": null,
   "metadata": {},
   "outputs": [],
   "source": [
    "air = w.EmptySpace(z=z)\n",
    "air.plot()\n",
    "plt.show()"
   ]
  },
  {
   "cell_type": "code",
   "execution_count": null,
   "metadata": {},
   "outputs": [],
   "source": [
    "common_n = 1\n",
    "fixed_dielectric = w.ConstantMaterial(z=z, n0=common_n)\n",
    "fixed_dielectric.plot()\n",
    "plt.show()"
   ]
  },
  {
   "cell_type": "code",
   "execution_count": null,
   "metadata": {},
   "outputs": [],
   "source": [
    "dielectric = w.SimpleDielectric(z=z, n0=1, max_dn=0.2, min_energy=4e6, max_energy=1.2e7)\n",
    "dielectric.plot()\n",
    "plt.show()"
   ]
  },
  {
   "cell_type": "code",
   "execution_count": null,
   "metadata": {},
   "outputs": [],
   "source": [
    "plt.plot(z, air.energy_distribution(s,s), label=\"analitical\")\n",
    "plt.plot(dielectric.z[:-1], dielectric.energy_distribution(s, s)[:-1], label=\"numerical - wave transfer matrices\")\n",
    "plt.plot(fixed_dielectric.z, fixed_dielectric.energy_distribution(s, s), label=\"numerical - phase shift\")\n",
    "plt.legend()\n",
    "plt.show()"
   ]
  },
  {
   "cell_type": "markdown",
   "metadata": {},
   "source": [
    "### An example recording"
   ]
  },
  {
   "cell_type": "code",
   "execution_count": null,
   "metadata": {},
   "outputs": [],
   "source": [
    "dielectric.record(s, s)"
   ]
  },
  {
   "cell_type": "code",
   "execution_count": null,
   "metadata": {},
   "outputs": [],
   "source": [
    "plt.plot(dielectric.z[:-1], dielectric.deposited_energy[:-1])\n",
    "plt.title(\"deposited energy\")\n",
    "plt.show()\n",
    "\n",
    "dielectric.plot(plot_imaginary=False)\n",
    "plt.show()"
   ]
  },
  {
   "cell_type": "code",
   "execution_count": null,
   "metadata": {
    "scrolled": true
   },
   "outputs": [],
   "source": [
    "dielectric = w.SimpleDielectric(z=z, n0=1, max_dn=0.2, min_energy=4e6, max_energy=1.2e7)\n",
    "plt.plot(dielectric.z[:-1], dielectric.energy_distribution(s, s)[:-1], label=\"numerical - wave transfer matrices\")\n",
    "plt.plot(fixed_dielectric.z, fixed_dielectric.energy_distribution(s, s), label=\"numerical - phase shift\")\n",
    "# plt.plot(z, intf.intensity(z=z), label=\"analitical\", alpha=0.1)\n",
    "plt.legend()\n",
    "plt.show()"
   ]
  },
  {
   "cell_type": "code",
   "execution_count": null,
   "metadata": {},
   "outputs": [],
   "source": [
    "plt.rcParams['axes.prop_cycle'] = cycler('color', plt.get_cmap('viridis')(np.linspace(0, 1, 21)))"
   ]
  },
  {
   "cell_type": "code",
   "execution_count": null,
   "metadata": {},
   "outputs": [],
   "source": [
    "dielectric = w.SimpleDielectric(z=z, n0=1, max_dn=0.2, max_visible_energy=4, min_energy=4e6, max_energy=1.5e7)\n",
    "for pulse in range(20):\n",
    "    phase = np.pi * pulse / 40\n",
    "    s2 = s * np.exp(1j*phase)\n",
    "    dielectric.record(s, s2)\n",
    "    plt.plot(dielectric.z[:-1], dielectric.recent_energy[:-1], label=\"pulse {}\".format(pulse + 1), alpha=0.5)\n",
    "    \n",
    "plt.legend(loc=3)\n",
    "plt.show()"
   ]
  },
  {
   "cell_type": "code",
   "execution_count": null,
   "metadata": {},
   "outputs": [],
   "source": [
    "dielectric = w.SimpleDielectric(z=z, n0=1, max_dn=0.2, max_visible_energy=5, min_energy=4e6, max_energy=1.5e7)\n",
    "for pulse in range(20):\n",
    "    phase = np.pi * pulse / 40\n",
    "    s2 = s * np.exp(1j*phase)\n",
    "    dielectric.plot(plot_imaginary=False, alpha=0.5)\n",
    "    dielectric.record(s, s2)\n",
    "    \n",
    "plt.legend()\n",
    "plt.show()"
   ]
  }
 ],
 "metadata": {
  "kernelspec": {
   "display_name": "Python 3",
   "language": "python",
   "name": "python3"
  },
  "language_info": {
   "codemirror_mode": {
    "name": "ipython",
    "version": 3
   },
   "file_extension": ".py",
   "mimetype": "text/x-python",
   "name": "python",
   "nbconvert_exporter": "python",
   "pygments_lexer": "ipython3",
   "version": "3.7.1"
  }
 },
 "nbformat": 4,
 "nbformat_minor": 1
}
