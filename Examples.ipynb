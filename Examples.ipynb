{
 "cells": [
  {
   "cell_type": "code",
   "execution_count": null,
   "metadata": {},
   "outputs": [],
   "source": [
    "import numpy as np\n",
    "import matplotlib.pyplot as plt\n",
    "import wave as w\n",
    "import copy\n",
    "np.set_printoptions(precision=2)\n",
    "from cycler import cycler\n",
    "plt.rcParams.update(plt.rcParamsDefault)\n",
    "w.Spectrum.k = np.linspace(2 * np.pi / (1.0 * w.MICRO), 2 * np.pi / (300.0 * w.NANO), 1000)"
   ]
  },
  {
   "cell_type": "markdown",
   "metadata": {},
   "source": [
    "# Example usage of simulated materials\n",
    "This notebook is ment as an reference on how to use `Spectrum` and `Material` classes,\n",
    "and for visual test of the implementation."
   ]
  },
  {
   "cell_type": "markdown",
   "metadata": {},
   "source": [
    "### Generate an example spectrum"
   ]
  },
  {
   "cell_type": "code",
   "execution_count": null,
   "metadata": {},
   "outputs": [],
   "source": [
    "s = w.GaussianSpectrum(mean=w.GREEN, std=(5*w.MICRO))\n",
    "# s = w.DeltaSpectrum(wavelength=w.GREEN)\n",
    "z = np.linspace(-6*w.MICRO, 6*w.MICRO, 1000)\n",
    "s.delay(0)\n",
    "\n",
    "fig, (ax1, ax2) = plt.subplots(1, 2, figsize=(10, 5))\n",
    "s.plot(ax=ax1, spectrum_axis=ax1.twinx(), wavelength=True)\n",
    "ax1.legend()\n",
    "s.plot_amplitude(z, ax=ax2)\n",
    "ax2.legend()\n",
    "fig.tight_layout() \n",
    "plt.show()"
   ]
  },
  {
   "cell_type": "markdown",
   "metadata": {},
   "source": [
    "### Compare different materials\n",
    "\n",
    "#### Analitical vs constant vs matrix theory"
   ]
  },
  {
   "cell_type": "code",
   "execution_count": null,
   "metadata": {},
   "outputs": [],
   "source": [
    "air = w.EmptySpace(z=z, name=\"analytic\")\n",
    "common_n = 1\n",
    "fixed_dielectric = w.ConstantMaterial(z=z, n0=common_n, name=\"phase shift\")\n",
    "dielectric = w.SimpleDielectric(z=z, n0=1, name=\"transfer matrices\")\n",
    "\n",
    "fig, (ax1, ax2, ax3) = plt.subplots(1, 3, figsize=(15, 5))\n",
    "\n",
    "air.plot(ax1, imaginary_axis=ax1.twinx())\n",
    "fixed_dielectric.plot(ax2, imaginary_axis=ax2.twinx())\n",
    "dielectric.plot(ax3, imaginary_axis=ax3.twinx())\n",
    "fig.tight_layout() \n",
    "plt.show()"
   ]
  },
  {
   "cell_type": "code",
   "execution_count": null,
   "metadata": {},
   "outputs": [],
   "source": [
    "fig, (ax1, ax2) = plt.subplots(1, 2, figsize=(10, 5))\n",
    "\n",
    "air.record(s,s)\n",
    "air.plot_recent_energy(ax1, label=\"air\")\n",
    "dielectric.record(s,s)\n",
    "dielectric.plot_recent_energy(ax1, label=\"matrix theory\")\n",
    "fixed_dielectric.record(s,s)\n",
    "fixed_dielectric.plot_recent_energy(ax1, label=\"correlation\")\n",
    "ax1.legend()\n",
    "\n",
    "air.transmit(s).plot(ax2)\n",
    "dielectric.transmit(s).plot(ax2, spectrum_axis=ax2.twinx())\n",
    "fixed_dielectric.transmit(s).plot(ax2, label=\"reflected\")\n",
    "ax2.legend()\n",
    "plt.show()"
   ]
  },
  {
   "cell_type": "markdown",
   "metadata": {},
   "source": [
    "### Layered material"
   ]
  },
  {
   "cell_type": "code",
   "execution_count": null,
   "metadata": {},
   "outputs": [],
   "source": [
    "z_layered = np.linspace(-2*w.MICRO, 2*w.MICRO, 1000)\n",
    "layered = w.LayeredMaterial(z=z_layered, n_layers=20, layer_width=80*w.NANO, n0=1.5, n1=2.0)\n",
    "fig, (ax1, ax2, ax3) = plt.subplots(1, 3, figsize=(15, 5))\n",
    "\n",
    "layered.shade_plot(ax1, alpha=0.2)\n",
    "layered.plot(ax1, imaginary_axis=ax1.twinx())\n",
    "layered.shade_plot(ax2, alpha=0.2)\n",
    "layered.reflect(s).plot(ax3, label=\"reflected\", wavelength=True, spectrum_axis=ax3.twinx())\n",
    "ax3.legend()\n",
    "layered.record(s, s)\n",
    "layered.plot_recent_energy(ax2)\n",
    "fig.tight_layout() \n",
    "plt.savefig(\"layered2.pdf\")\n",
    "plt.show()"
   ]
  },
  {
   "cell_type": "markdown",
   "metadata": {},
   "source": [
    "### An example recording"
   ]
  },
  {
   "cell_type": "code",
   "execution_count": null,
   "metadata": {},
   "outputs": [],
   "source": [
    "z = np.linspace(-6*w.MICRO, 6*w.MICRO, 1000)\n",
    "dielectric = w.SimpleDielectric(z=z, n0=1.45, name=\"transfer matrices\")\n",
    "s0 = w.GaussianSpectrum(mean=w.GREEN, std=(5*w.MICRO))\n",
    "dielectric.record(s0, s0)\n",
    "fig, (ax1, ax2, ax3) = plt.subplots(1, 3, figsize=(15, 5))\n",
    "dielectric.plot_recent_energy(ax1)\n",
    "ax1.set_title(\"interference\")\n",
    "dielectric.plot(imaginary_axis=ax2.twinx(), ax=ax2)\n",
    "dielectric.reflect(s0).plot(ax3, spectrum_axis=ax3.twinx())\n",
    "plt.tight_layout()\n",
    "plt.show()"
   ]
  },
  {
   "cell_type": "code",
   "execution_count": null,
   "metadata": {},
   "outputs": [],
   "source": [
    "steps = 20\n",
    "plt.rcParams['axes.prop_cycle'] = cycler('color', plt.get_cmap('viridis')(np.linspace(0, 1, int(steps/10)+1)))"
   ]
  },
  {
   "cell_type": "code",
   "execution_count": null,
   "metadata": {},
   "outputs": [],
   "source": [
    "dielectric = w.SimpleDielectric(z=z, n0=1)\n",
    "fig, (ax1, ax2, ax3) = plt.subplots(1, 3, figsize=(15, 5))\n",
    "ax3twin = ax3.twinx()\n",
    "ax2twin = ax2.twinx()\n",
    "\n",
    "for pulse in range(steps):\n",
    "    phase = 0\n",
    "    s2 = s0 * np.exp(1j*phase)\n",
    "    if pulse % 10 == 9:\n",
    "        dielectric.plot(ax=ax2, imaginary_axis=ax2twin, alpha=0.5)\n",
    "    dielectric.record(s0, s2)\n",
    "    if pulse % 10 == 9:\n",
    "        ax1.plot(dielectric.z[:-1], dielectric.recent_energy[:-1], label=\"pulse {}\".format(pulse + 1), alpha=0.5)\n",
    "        dielectric.reflect(s0).plot(ax3, spectrum_axis=ax3twin)\n",
    "        \n",
    "plt.tight_layout()        \n",
    "plt.show()"
   ]
  },
  {
   "cell_type": "code",
   "execution_count": null,
   "metadata": {},
   "outputs": [],
   "source": []
  }
 ],
 "metadata": {
  "kernelspec": {
   "display_name": "Python 3",
   "language": "python",
   "name": "python3"
  },
  "language_info": {
   "codemirror_mode": {
    "name": "ipython",
    "version": 3
   },
   "file_extension": ".py",
   "mimetype": "text/x-python",
   "name": "python",
   "nbconvert_exporter": "python",
   "pygments_lexer": "ipython3",
   "version": "3.7.1"
  }
 },
 "nbformat": 4,
 "nbformat_minor": 1
}
